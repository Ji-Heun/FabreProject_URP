{
 "cells": [
  {
   "cell_type": "code",
   "execution_count": 9,
   "metadata": {},
   "outputs": [],
   "source": [
    "from glob import glob\n",
    "[os.remove(f) for f in glob('./dataset/*/*.jpeg')]\n",
    "[os.remove(f) for f in glob('./dataset/labels/*.txt')]\n",
    "\n",
    "! cp ./Data/*/*/*/*.jpeg ./dataset/images\n",
    "! cp ./Data/*/*/*/*.txt ./dataset/labels \n"
   ]
  },
  {
   "cell_type": "code",
   "execution_count": 2,
   "metadata": {},
   "outputs": [
    {
     "data": {
      "text/plain": [
       "267"
      ]
     },
     "execution_count": 2,
     "metadata": {},
     "output_type": "execute_result"
    }
   ],
   "source": [
    "img_list = glob('/home/urpjh/yolo-butterfly/dataset/images/*')\n",
    "\n",
    "len(img_list)"
   ]
  },
  {
   "cell_type": "code",
   "execution_count": 3,
   "metadata": {},
   "outputs": [
    {
     "name": "stdout",
     "output_type": "stream",
     "text": [
      "186 68 13\n"
     ]
    }
   ],
   "source": [
    "from sklearn.model_selection import train_test_split\n",
    "# if you want to change train data set, change the random state number\n",
    "\n",
    "train_img_list, val_test_img_list = train_test_split(img_list, test_size=0.3, random_state=20)\n",
    "\n",
    "val_img_list, test_img_list = train_test_split(val_test_img_list, test_size=0.16, random_state=1000)\n",
    "\n",
    "print(len(train_img_list), len(val_img_list),  len(test_img_list))"
   ]
  },
  {
   "cell_type": "code",
   "execution_count": 5,
   "metadata": {},
   "outputs": [],
   "source": [
    "import os\n",
    "import shutil\n",
    "from glob import glob\n",
    "\n",
    "\n",
    "with open('./dataset/train.txt', 'w') as f:\n",
    "  f.write('\\n'.join(train_img_list) + '\\n')\n",
    "\n",
    "with open('./dataset/val.txt', 'w') as f:\n",
    "  f.write('\\n'.join(val_img_list) + '\\n')\n",
    "\n",
    "#with open('./Data/dataset/test.txt', 'w') as f:\n",
    "#  f.write('\\n'.join(test_img_list) + '\\n')\n",
    "\n",
    "\n",
    "for img in test_img_list:\n",
    "    #img_name = os.path.basename(img) \n",
    "    shutil.copy(img, './dataset/test/')\n",
    "    \n",
    "  \n"
   ]
  },
  {
   "cell_type": "code",
   "execution_count": null,
   "metadata": {},
   "outputs": [],
   "source": []
  }
 ],
 "metadata": {
  "interpreter": {
   "hash": "13f57116f6da02ef3baeac4969a7242a96ff52ccc9feec986cde6af169d62ca5"
  },
  "kernelspec": {
   "display_name": "Python 3.9.7 ('pytorch')",
   "language": "python",
   "name": "python3"
  },
  "language_info": {
   "codemirror_mode": {
    "name": "ipython",
    "version": 3
   },
   "file_extension": ".py",
   "mimetype": "text/x-python",
   "name": "python",
   "nbconvert_exporter": "python",
   "pygments_lexer": "ipython3",
   "version": "3.9.7"
  },
  "orig_nbformat": 4
 },
 "nbformat": 4,
 "nbformat_minor": 2
}
