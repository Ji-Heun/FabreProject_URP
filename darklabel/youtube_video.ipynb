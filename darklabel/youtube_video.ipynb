{
 "cells": [
  {
   "cell_type": "code",
   "execution_count": null,
   "metadata": {},
   "outputs": [],
   "source": [
    "from pytube import YouTube\n",
    "yt = YouTube('https://www.youtube.com/watch?v=rRzxEiBLQCA') \n",
    "\n",
    "# URL의 영상 스트림을 리스트로 가져옴, 프로그레시브 방식의 인코딩, 파일 포맷은 MP4\n",
    "yt.streams.filter(progressive=True, file_extension='mp4') \\\n",
    ".order_by('resolution').desc() \\\n",
    ".first() \\\n",
    ".download('./') # 다운로드, 매개변수로 다운로드 경로를 지정할 수 있음\n"
   ]
  },
  {
   "cell_type": "code",
   "execution_count": 16,
   "metadata": {},
   "outputs": [],
   "source": [
    "import cv2\n",
    "def video_info(infilename):\n",
    " \n",
    "    cap = cv2.VideoCapture(infilename)\n",
    " \n",
    "    if not cap.isOpened():\n",
    "        print(\"could not open :\", infilename)\n",
    "        exit(0)\n",
    " \n",
    "    length = int(cap.get(cv2.CAP_PROP_FRAME_COUNT))\n",
    "    width = int(cap.get(cv2.CAP_PROP_FRAME_WIDTH))\n",
    "    height = int(cap.get(cv2.CAP_PROP_FRAME_HEIGHT))\n",
    "    fps = cap.get(cv2.CAP_PROP_FPS)\n",
    " \n",
    "    print('length : ', length)\n",
    "    print('width : ', width)\n",
    "    print('height : ', height)\n",
    "    print('fps : ', fps)"
   ]
  },
  {
   "cell_type": "code",
   "execution_count": 18,
   "metadata": {},
   "outputs": [
    {
     "name": "stdout",
     "output_type": "stream",
     "text": [
      "length :  1825\n",
      "width :  1920\n",
      "height :  1080\n",
      "fps :  30.0\n"
     ]
    }
   ],
   "source": [
    "video_info('./Bees_and_Flowers.mp4')\n",
    "\n",
    "filepath = './Bees_and_Flowers.mp4'\n",
    "video = cv2.VideoCapture(filepath)\n",
    "fps = video.get(cv2.CAP_PROP_FPS)\n"
   ]
  },
  {
   "cell_type": "code",
   "execution_count": 19,
   "metadata": {},
   "outputs": [
    {
     "name": "stdout",
     "output_type": "stream",
     "text": [
      "Saved frame number : 30\n",
      "Saved frame number : 60\n",
      "Saved frame number : 90\n",
      "Saved frame number : 120\n",
      "Saved frame number : 150\n",
      "Saved frame number : 180\n",
      "Saved frame number : 210\n",
      "Saved frame number : 240\n",
      "Saved frame number : 270\n",
      "Saved frame number : 300\n",
      "Saved frame number : 330\n",
      "Saved frame number : 360\n",
      "Saved frame number : 390\n",
      "Saved frame number : 420\n",
      "Saved frame number : 450\n",
      "Saved frame number : 480\n",
      "Saved frame number : 510\n",
      "Saved frame number : 540\n",
      "Saved frame number : 570\n",
      "Saved frame number : 600\n",
      "Saved frame number : 630\n",
      "Saved frame number : 660\n",
      "Saved frame number : 690\n",
      "Saved frame number : 720\n",
      "Saved frame number : 750\n",
      "Saved frame number : 780\n",
      "Saved frame number : 810\n",
      "Saved frame number : 840\n",
      "Saved frame number : 870\n",
      "Saved frame number : 900\n",
      "Saved frame number : 930\n",
      "Saved frame number : 960\n",
      "Saved frame number : 990\n",
      "Saved frame number : 1020\n",
      "Saved frame number : 1050\n",
      "Saved frame number : 1080\n",
      "Saved frame number : 1110\n",
      "Saved frame number : 1140\n",
      "Saved frame number : 1170\n",
      "Saved frame number : 1200\n",
      "Saved frame number : 1230\n",
      "Saved frame number : 1260\n",
      "Saved frame number : 1290\n",
      "Saved frame number : 1320\n",
      "Saved frame number : 1350\n",
      "Saved frame number : 1380\n",
      "Saved frame number : 1410\n",
      "Saved frame number : 1440\n",
      "Saved frame number : 1470\n",
      "Saved frame number : 1500\n",
      "Saved frame number : 1530\n",
      "Saved frame number : 1560\n",
      "Saved frame number : 1590\n",
      "Saved frame number : 1620\n",
      "Saved frame number : 1650\n",
      "Saved frame number : 1680\n",
      "Saved frame number : 1710\n",
      "Saved frame number : 1740\n"
     ]
    },
    {
     "ename": "KeyboardInterrupt",
     "evalue": "",
     "output_type": "error",
     "traceback": [
      "\u001b[0;31m---------------------------------------------------------------------------\u001b[0m",
      "\u001b[0;31mKeyboardInterrupt\u001b[0m                         Traceback (most recent call last)",
      "\u001b[0;32m/tmp/ipykernel_2976038/49411432.py\u001b[0m in \u001b[0;36m<module>\u001b[0;34m\u001b[0m\n\u001b[1;32m      9\u001b[0m     \u001b[0mret\u001b[0m\u001b[0;34m,\u001b[0m \u001b[0mimage\u001b[0m \u001b[0;34m=\u001b[0m \u001b[0mvideo\u001b[0m\u001b[0;34m.\u001b[0m\u001b[0mread\u001b[0m\u001b[0;34m(\u001b[0m\u001b[0;34m)\u001b[0m\u001b[0;34m\u001b[0m\u001b[0;34m\u001b[0m\u001b[0m\n\u001b[1;32m     10\u001b[0m     \u001b[0;32mif\u001b[0m\u001b[0;34m(\u001b[0m\u001b[0mint\u001b[0m\u001b[0;34m(\u001b[0m\u001b[0mvideo\u001b[0m\u001b[0;34m.\u001b[0m\u001b[0mget\u001b[0m\u001b[0;34m(\u001b[0m\u001b[0;36m1\u001b[0m\u001b[0;34m)\u001b[0m\u001b[0;34m)\u001b[0m \u001b[0;34m%\u001b[0m \u001b[0mfps\u001b[0m \u001b[0;34m==\u001b[0m \u001b[0;36m0\u001b[0m\u001b[0;34m)\u001b[0m\u001b[0;34m:\u001b[0m \u001b[0;31m#앞서 불러온 fps 값을 사용하여 1초마다 추출\u001b[0m\u001b[0;34m\u001b[0m\u001b[0;34m\u001b[0m\u001b[0m\n\u001b[0;32m---> 11\u001b[0;31m         \u001b[0mcv2\u001b[0m\u001b[0;34m.\u001b[0m\u001b[0mimwrite\u001b[0m\u001b[0;34m(\u001b[0m\u001b[0mfilepath\u001b[0m\u001b[0;34m[\u001b[0m\u001b[0;34m:\u001b[0m\u001b[0;34m-\u001b[0m\u001b[0;36m4\u001b[0m\u001b[0;34m]\u001b[0m \u001b[0;34m+\u001b[0m \u001b[0;34m\"/frame%d.jpg\"\u001b[0m \u001b[0;34m%\u001b[0m \u001b[0mcount\u001b[0m\u001b[0;34m,\u001b[0m \u001b[0mimage\u001b[0m\u001b[0;34m)\u001b[0m\u001b[0;34m\u001b[0m\u001b[0;34m\u001b[0m\u001b[0m\n\u001b[0m\u001b[1;32m     12\u001b[0m         \u001b[0mprint\u001b[0m\u001b[0;34m(\u001b[0m\u001b[0;34m'Saved frame number :'\u001b[0m\u001b[0;34m,\u001b[0m \u001b[0mstr\u001b[0m\u001b[0;34m(\u001b[0m\u001b[0mint\u001b[0m\u001b[0;34m(\u001b[0m\u001b[0mvideo\u001b[0m\u001b[0;34m.\u001b[0m\u001b[0mget\u001b[0m\u001b[0;34m(\u001b[0m\u001b[0;36m1\u001b[0m\u001b[0;34m)\u001b[0m\u001b[0;34m)\u001b[0m\u001b[0;34m)\u001b[0m\u001b[0;34m)\u001b[0m\u001b[0;34m\u001b[0m\u001b[0;34m\u001b[0m\u001b[0m\n\u001b[1;32m     13\u001b[0m         \u001b[0mcount\u001b[0m \u001b[0;34m+=\u001b[0m \u001b[0;36m1\u001b[0m\u001b[0;34m\u001b[0m\u001b[0;34m\u001b[0m\u001b[0m\n",
      "\u001b[0;31mKeyboardInterrupt\u001b[0m: "
     ]
    }
   ],
   "source": [
    "try:\n",
    "    if not os.path.exists(filepath[:-4]):\n",
    "        os.makedirs(filepath[:-4])\n",
    "except OSError:\n",
    "    print ('Error: Creating directory. ' +  filepath[:-4])\n",
    "\n",
    "count = 0\n",
    "while(video.isOpened()):\n",
    "    ret, image = video.read()\n",
    "    if(int(video.get(1)) % fps == 0): #앞서 불러온 fps 값을 사용하여 1초마다 추출\n",
    "        cv2.imwrite(filepath[:-4] + \"/frame%d.jpg\" % count, image)\n",
    "        print('Saved frame number :', str(int(video.get(1))))\n",
    "        count += 1\n",
    "\n",
    "# while 문 닫아야하는데 어떻게 닫지\n",
    "#이미지 합쳐서 영상도 다시 만들어야함 -> 이미지를 저장하지 않고 영상을 프레임 수 줄여서 만드는 방법은 없을까\n",
    "\n",
    "video.realse() "
   ]
  },
  {
   "cell_type": "code",
   "execution_count": 15,
   "metadata": {},
   "outputs": [
    {
     "name": "stdout",
     "output_type": "stream",
     "text": [
      "./Bees_and_Flowers.mp4\n"
     ]
    }
   ],
   "source": [
    "\n",
    "print(filepath)"
   ]
  },
  {
   "cell_type": "code",
   "execution_count": null,
   "metadata": {},
   "outputs": [],
   "source": []
  }
 ],
 "metadata": {
  "interpreter": {
   "hash": "dcc856516333f99619197f2e0b6484c4cbe19a2d3f0fb3a2e209aaa066c52411"
  },
  "kernelspec": {
   "display_name": "Python 3.9.7 ('yolo')",
   "language": "python",
   "name": "python3"
  },
  "language_info": {
   "codemirror_mode": {
    "name": "ipython",
    "version": 3
   },
   "file_extension": ".py",
   "mimetype": "text/x-python",
   "name": "python",
   "nbconvert_exporter": "python",
   "pygments_lexer": "ipython3",
   "version": "3.9.7"
  },
  "orig_nbformat": 4
 },
 "nbformat": 4,
 "nbformat_minor": 2
}
